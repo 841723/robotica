{
 "cells": [
  {
   "cell_type": "markdown",
   "metadata": {},
   "source": [
    "Que funciones/estrategias vais a aplicar para decidir la nueva v y w en función de los parámetros medidos en cada nueva imagen/frame? Cuales serán dichos parámetros?\n",
    "\n",
    "Rango de color de la bola, Tamaño de la bola en la imagen y posición.\n",
    "Cuando detecta blob de tamaño mínimo y color gira en la dirección adecuada para centrarla y se acerca hasta que llega al tamaño necesario. Si la bola se mueve, gira en tal dirección hasta volverla a centrar. \n",
    "Dar vueltas sobre sí mismo si no ve nada\n",
    "\n",
    "Primera aproximación: sin localización relativa, girando y línea recta\n",
    "w positivo (rot izq) si bola a la izq del centro\n",
    "w negativo al revés\n",
    "aumentar area línea recta en función de la raíz cuadrada del área\n",
    "\n",
    "\n",
    "Segunda aproximación: con localización relativa explícita\n",
    "generar trayectoria utilizando ambas a la vez"
   ]
  },
  {
   "cell_type": "markdown",
   "metadata": {},
   "source": [
    "readme, codigo, log"
   ]
  }
 ],
 "metadata": {
  "kernelspec": {
   "display_name": "RobotEnv",
   "language": "python",
   "name": "python3"
  },
  "language_info": {
   "codemirror_mode": {
    "name": "ipython",
    "version": 3
   },
   "file_extension": ".py",
   "mimetype": "text/x-python",
   "name": "python",
   "nbconvert_exporter": "python",
   "pygments_lexer": "ipython3",
   "version": "3.9.13"
  }
 },
 "nbformat": 4,
 "nbformat_minor": 2
}
