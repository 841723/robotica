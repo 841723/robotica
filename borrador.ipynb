{
 "cells": [
  {
   "cell_type": "code",
   "execution_count": 4,
   "metadata": {},
   "outputs": [
    {
     "name": "stdout",
     "output_type": "stream",
     "text": [
      "angulo_tangencia = 1.57\n",
      "distancia_centros = 2.00\n"
     ]
    }
   ],
   "source": [
    "import math\n",
    "\n",
    "R = 2\n",
    "radioD = 1\n",
    "radioAlfa = 1\n",
    "\n",
    "distancia_centros = math.sqrt(R**2 - (radioD-radioAlfa)**2)\n",
    "angulo_tangencia = math.pi/2 + math.asin((radioD-radioAlfa)/distancia_centros)\n",
    "print(\"angulo_tangencia = %.2f\" % (angulo_tangencia))\n",
    "print(\"distancia_centros = %.2f\" % (distancia_centros))"
   ]
  }
 ],
 "metadata": {
  "kernelspec": {
   "display_name": "RobotEnv",
   "language": "python",
   "name": "python3"
  },
  "language_info": {
   "codemirror_mode": {
    "name": "ipython",
    "version": 3
   },
   "file_extension": ".py",
   "mimetype": "text/x-python",
   "name": "python",
   "nbconvert_exporter": "python",
   "pygments_lexer": "ipython3",
   "version": "3.9.13"
  }
 },
 "nbformat": 4,
 "nbformat_minor": 2
}
