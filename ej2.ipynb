{
 "cells": [
  {
   "cell_type": "code",
   "execution_count": 1,
   "metadata": {},
   "outputs": [],
   "source": [
    "# -*- coding: utf-8 -*-\n",
    "import matplotlib.pyplot as plt\n",
    "import numpy as np\n",
    "import time as time\n",
    "from lib.simubot import hom, loc,simubot\n",
    "from lib.dibrobot import dibrobot\n",
    "from lib.utils import c2m, polares"
   ]
  },
  {
   "cell_type": "code",
   "execution_count": null,
   "metadata": {},
   "outputs": [],
   "source": [
    "def escenario():\n",
    "   # Escenario\n",
    "    plt.vlines(0, 0, 3.2, colors='k',lw=1.5)\n",
    "    plt.vlines(1.2, 0.8, 3.2, colors='k',lw=1.5)\n",
    "    plt.vlines(2.8, 0, 3.2, colors='k',lw=1.5)\n",
    "    plt.hlines(0, 0, 2.8, colors='k',lw=1.5)\n",
    "    plt.hlines(3.2, 0, 0.4, colors='k',lw=1.5)\n",
    "    plt.hlines(3.2, 0.8, 1.2, colors='k',lw=1.5)\n",
    "    plt.hlines(3.2, 1.6, 2.4, colors='k',lw=1.5)\n",
    "    plt.hlines(1.2, 1.6, 2.4, colors='k',lw=1.5)\n",
    "    # Grid\n",
    "    plt.hlines(0.4, 0, 2.8, colors='k',ls='--',lw=0.5)\n",
    "    plt.hlines(0.8, 0, 2.8, colors='k',ls='--',lw=0.5)\n",
    "    plt.hlines(1.2, 0, 2.8, colors='k',ls='--',lw=0.5)\n",
    "    plt.hlines(1.6, 0, 2.8, colors='k',ls='--',lw=0.5)\n",
    "    plt.hlines(2.0, 0, 2.8, colors='k',ls='--',lw=0.5)\n",
    "    plt.hlines(2.4, 0, 2.8, colors='k',ls='--',lw=0.5)\n",
    "    plt.hlines(2.8, 0, 2.8, colors='k',ls='--',lw=0.5)\n",
    "    plt.hlines(3.2, 0, 2.8, colors='k',ls='--',lw=0.5)\n",
    "    plt.vlines(0.4, 0, 3.2, colors='k',ls='--',lw=0.5)\n",
    "    plt.vlines(0.8, 0, 3.2, colors='k',ls='--',lw=0.5)\n",
    "    plt.vlines(1.2, 0, 3.2, colors='k',ls='--',lw=0.5)\n",
    "    plt.vlines(1.6, 0, 3.2, colors='k',ls='--',lw=0.5)\n",
    "    plt.vlines(2, 0, 3.2, colors='k',ls='--',lw=0.5)\n",
    "    plt.vlines(2.4, 0, 3.2, colors='k',ls='--',lw=0.5)\n",
    "    plt.vlines(2.8, 0, 3.2, colors='k',ls='--',lw=0.5)\n",
    "    # Cuadros\n",
    "    plt.vlines(0, 1.4, 1.8, colors='b',lw=4)\n",
    "    plt.hlines(0, 0.4, 0.8, colors='b',lw=4)\n",
    "    plt.hlines(3.2, 1.8, 2.2, colors='b',lw=4)\n",
    "\n",
    "    plt.gca().set_aspect('equal', adjustable='box')\n",
    "\n",
    "\n",
    "def dibrobotesc(loc):\n",
    "    escenario()\n",
    "    dibrobot(loc)\n"
   ]
  },
  {
   "cell_type": "code",
   "execution_count": 3,
   "metadata": {},
   "outputs": [
    {
     "data": {
      "image/png": "[encoded data removed]",
      "text/plain": [
       "<Figure size 640x480 with 1 Axes>"
      ]
     },
     "metadata": {},
     "output_type": "display_data"
    }
   ],
   "source": [
    "dibrobotesc([0.6, 3.2, -np.pi/2])"
   ]
  },
  {
   "cell_type": "code",
   "execution_count": null,
   "metadata": {},
   "outputs": [],
   "source": [
    "def control_de_pose(pasos, distancia, angulo, wXrInicial=[0,0,0]):\n",
    "    wXr = wXrInicial\n",
    "    kp, ka, kb = 0.2, 0.8, 0.4\n",
    "    T = 0.25\n",
    "    K = [[kp,0,0],[0,ka,kb]]\n",
    "    i = 0\n",
    "\n",
    "    for paso in pasos:\n",
    "        while True:\n",
    "            if paso[0] == 'c':\n",
    "                wXg = [paso[1], paso[2], paso[3]]\n",
    "                gXr = loc(np.dot(hom(wXg),hom(wXr)))\n",
    "\n",
    "                gPr = polares(gXr[0], gXr[1], gXr[2])\n",
    "\n",
    "                [v,w]= np.dot(K, gPr)\n",
    "\n",
    "                wXr2 = simubot([v,w], wXr, T)\n",
    "                dibrobot(wXr2)\n",
    "\n",
    "                if i > 50:\n",
    "                    escenario()\n",
    "                    plt.show()\n",
    "                    i = 0\n",
    "                else:\n",
    "                    i += 1\n",
    "\n",
    "                if gPr[0] < distancia and np.abs(gPr[2]) < np.deg2rad(angulo):\n",
    "                    wXr = wXr2\n",
    "                    break\n",
    "\n",
    "                wXr = wXr2\n",
    "            else:\n",
    "                break\n",
    "\n",
    "    escenario()\n",
    "    \n",
    "\n",
    "    \n",
    "control_de_pose(pasos=[\n",
    "        ['c',0, c2m(4), -np.pi],\n",
    "        ['c',c2m(1.5), 0, -np.pi/2],\n",
    "        ['p', c2m(3.5), c2m(3), np.pi/2],\n",
    "        ['c',c2m(5), c2m(8), np.pi/2],\n",
    "        ['p', c2m(3.5), c2m(8), np.pi/2]\n",
    "    ],\n",
    "    distancia=c2m(2),\n",
    "    angulo=3,\n",
    "    wXrInicial=[0.6, 3.2, -np.pi/2]\n",
    ")"
   ]
  }
 ],
 "metadata": {
  "kernelspec": {
   "display_name": "RobotEnv",
   "language": "python",
   "name": "python3"
  },
  "language_info": {
   "codemirror_mode": {
    "name": "ipython",
    "version": 3
   },
   "file_extension": ".py",
   "mimetype": "text/x-python",
   "name": "python",
   "nbconvert_exporter": "python",
   "pygments_lexer": "ipython3",
   "version": "3.9.13"
  }
 },
 "nbformat": 4,
 "nbformat_minor": 2
}
